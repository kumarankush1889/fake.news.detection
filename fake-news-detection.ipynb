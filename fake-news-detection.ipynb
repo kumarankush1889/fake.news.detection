{
 "cells": [
  {
   "cell_type": "code",
   "execution_count": 1,
   "id": "disabled-romance",
   "metadata": {
    "_cell_guid": "b1076dfc-b9ad-4769-8c92-a6c4dae69d19",
    "_uuid": "8f2839f25d086af736a60e9eeb907d3b93b6e0e5",
    "execution": {
     "iopub.execute_input": "2021-06-22T19:04:58.522289Z",
     "iopub.status.busy": "2021-06-22T19:04:58.521589Z",
     "iopub.status.idle": "2021-06-22T19:05:00.124940Z",
     "shell.execute_reply": "2021-06-22T19:05:00.124080Z",
     "shell.execute_reply.started": "2021-06-22T18:50:54.19557Z"
    },
    "papermill": {
     "duration": 1.648666,
     "end_time": "2021-06-22T19:05:00.125118",
     "exception": false,
     "start_time": "2021-06-22T19:04:58.476452",
     "status": "completed"
    },
    "tags": []
   },
   "outputs": [],
   "source": [
    "\n",
    "import numpy as np\n",
    "import pandas as pd\n",
    "import re\n",
    "from nltk.corpus import stopwords\n",
    "from nltk.stem.porter import PorterStemmer\n",
    "from sklearn.feature_extraction.text import TfidfVectorizer\n",
    "from sklearn.model_selection import train_test_split\n",
    "from sklearn.linear_model import LogisticRegression\n",
    "from sklearn.metrics import accuracy_score\n"
   ]
  },
  {
   "cell_type": "code",
   "execution_count": 2,
   "id": "close-thesis",
   "metadata": {
    "execution": {
     "iopub.execute_input": "2021-06-22T19:05:00.192515Z",
     "iopub.status.busy": "2021-06-22T19:05:00.191768Z",
     "iopub.status.idle": "2021-06-22T19:05:00.213193Z",
     "shell.execute_reply": "2021-06-22T19:05:00.213664Z",
     "shell.execute_reply.started": "2021-06-22T18:50:54.209881Z"
    },
    "papermill": {
     "duration": 0.057716,
     "end_time": "2021-06-22T19:05:00.213877",
     "exception": false,
     "start_time": "2021-06-22T19:05:00.156161",
     "status": "completed"
    },
    "tags": []
   },
   "outputs": [
    {
     "name": "stdout",
     "output_type": "stream",
     "text": [
      "['i', 'me', 'my', 'myself', 'we', 'our', 'ours', 'ourselves', 'you', \"you're\", \"you've\", \"you'll\", \"you'd\", 'your', 'yours', 'yourself', 'yourselves', 'he', 'him', 'his', 'himself', 'she', \"she's\", 'her', 'hers', 'herself', 'it', \"it's\", 'its', 'itself', 'they', 'them', 'their', 'theirs', 'themselves', 'what', 'which', 'who', 'whom', 'this', 'that', \"that'll\", 'these', 'those', 'am', 'is', 'are', 'was', 'were', 'be', 'been', 'being', 'have', 'has', 'had', 'having', 'do', 'does', 'did', 'doing', 'a', 'an', 'the', 'and', 'but', 'if', 'or', 'because', 'as', 'until', 'while', 'of', 'at', 'by', 'for', 'with', 'about', 'against', 'between', 'into', 'through', 'during', 'before', 'after', 'above', 'below', 'to', 'from', 'up', 'down', 'in', 'out', 'on', 'off', 'over', 'under', 'again', 'further', 'then', 'once', 'here', 'there', 'when', 'where', 'why', 'how', 'all', 'any', 'both', 'each', 'few', 'more', 'most', 'other', 'some', 'such', 'no', 'nor', 'not', 'only', 'own', 'same', 'so', 'than', 'too', 'very', 's', 't', 'can', 'will', 'just', 'don', \"don't\", 'should', \"should've\", 'now', 'd', 'll', 'm', 'o', 're', 've', 'y', 'ain', 'aren', \"aren't\", 'couldn', \"couldn't\", 'didn', \"didn't\", 'doesn', \"doesn't\", 'hadn', \"hadn't\", 'hasn', \"hasn't\", 'haven', \"haven't\", 'isn', \"isn't\", 'ma', 'mightn', \"mightn't\", 'mustn', \"mustn't\", 'needn', \"needn't\", 'shan', \"shan't\", 'shouldn', \"shouldn't\", 'wasn', \"wasn't\", 'weren', \"weren't\", 'won', \"won't\", 'wouldn', \"wouldn't\"]\n"
     ]
    }
   ],
   "source": [
    "print(stopwords.words('english'))"
   ]
  },
  {
   "cell_type": "code",
   "execution_count": 3,
   "id": "alpha-block",
   "metadata": {
    "execution": {
     "iopub.execute_input": "2021-06-22T19:05:00.282192Z",
     "iopub.status.busy": "2021-06-22T19:05:00.281370Z",
     "iopub.status.idle": "2021-06-22T19:05:03.043403Z",
     "shell.execute_reply": "2021-06-22T19:05:03.042438Z",
     "shell.execute_reply.started": "2021-06-22T18:50:54.227148Z"
    },
    "papermill": {
     "duration": 2.798031,
     "end_time": "2021-06-22T19:05:03.043562",
     "exception": false,
     "start_time": "2021-06-22T19:05:00.245531",
     "status": "completed"
    },
    "tags": []
   },
   "outputs": [],
   "source": [
    "news_dataset = pd.read_csv('../input/test12345/train.csv')"
   ]
  },
  {
   "cell_type": "code",
   "execution_count": 4,
   "id": "running-burst",
   "metadata": {
    "execution": {
     "iopub.execute_input": "2021-06-22T19:05:03.114293Z",
     "iopub.status.busy": "2021-06-22T19:05:03.113621Z",
     "iopub.status.idle": "2021-06-22T19:05:03.117201Z",
     "shell.execute_reply": "2021-06-22T19:05:03.117675Z",
     "shell.execute_reply.started": "2021-06-22T18:50:55.548271Z"
    },
    "papermill": {
     "duration": 0.042892,
     "end_time": "2021-06-22T19:05:03.117855",
     "exception": false,
     "start_time": "2021-06-22T19:05:03.074963",
     "status": "completed"
    },
    "tags": []
   },
   "outputs": [
    {
     "data": {
      "text/plain": [
       "(20800, 5)"
      ]
     },
     "execution_count": 4,
     "metadata": {},
     "output_type": "execute_result"
    }
   ],
   "source": [
    "news_dataset.shape"
   ]
  },
  {
   "cell_type": "code",
   "execution_count": 5,
   "id": "adequate-handle",
   "metadata": {
    "execution": {
     "iopub.execute_input": "2021-06-22T19:05:03.190912Z",
     "iopub.status.busy": "2021-06-22T19:05:03.189951Z",
     "iopub.status.idle": "2021-06-22T19:05:03.207401Z",
     "shell.execute_reply": "2021-06-22T19:05:03.207902Z",
     "shell.execute_reply.started": "2021-06-22T18:50:55.557416Z"
    },
    "papermill": {
     "duration": 0.058706,
     "end_time": "2021-06-22T19:05:03.208093",
     "exception": false,
     "start_time": "2021-06-22T19:05:03.149387",
     "status": "completed"
    },
    "tags": []
   },
   "outputs": [
    {
     "data": {
      "text/html": [
       "<div>\n",
       "<style scoped>\n",
       "    .dataframe tbody tr th:only-of-type {\n",
       "        vertical-align: middle;\n",
       "    }\n",
       "\n",
       "    .dataframe tbody tr th {\n",
       "        vertical-align: top;\n",
       "    }\n",
       "\n",
       "    .dataframe thead th {\n",
       "        text-align: right;\n",
       "    }\n",
       "</style>\n",
       "<table border=\"1\" class=\"dataframe\">\n",
       "  <thead>\n",
       "    <tr style=\"text-align: right;\">\n",
       "      <th></th>\n",
       "      <th>id</th>\n",
       "      <th>title</th>\n",
       "      <th>author</th>\n",
       "      <th>text</th>\n",
       "      <th>label</th>\n",
       "    </tr>\n",
       "  </thead>\n",
       "  <tbody>\n",
       "    <tr>\n",
       "      <th>0</th>\n",
       "      <td>0</td>\n",
       "      <td>House Dem Aide: We Didn’t Even See Comey’s Let...</td>\n",
       "      <td>Darrell Lucus</td>\n",
       "      <td>House Dem Aide: We Didn’t Even See Comey’s Let...</td>\n",
       "      <td>1</td>\n",
       "    </tr>\n",
       "    <tr>\n",
       "      <th>1</th>\n",
       "      <td>1</td>\n",
       "      <td>FLYNN: Hillary Clinton, Big Woman on Campus - ...</td>\n",
       "      <td>Daniel J. Flynn</td>\n",
       "      <td>Ever get the feeling your life circles the rou...</td>\n",
       "      <td>0</td>\n",
       "    </tr>\n",
       "    <tr>\n",
       "      <th>2</th>\n",
       "      <td>2</td>\n",
       "      <td>Why the Truth Might Get You Fired</td>\n",
       "      <td>Consortiumnews.com</td>\n",
       "      <td>Why the Truth Might Get You Fired October 29, ...</td>\n",
       "      <td>1</td>\n",
       "    </tr>\n",
       "    <tr>\n",
       "      <th>3</th>\n",
       "      <td>3</td>\n",
       "      <td>15 Civilians Killed In Single US Airstrike Hav...</td>\n",
       "      <td>Jessica Purkiss</td>\n",
       "      <td>Videos 15 Civilians Killed In Single US Airstr...</td>\n",
       "      <td>1</td>\n",
       "    </tr>\n",
       "    <tr>\n",
       "      <th>4</th>\n",
       "      <td>4</td>\n",
       "      <td>Iranian woman jailed for fictional unpublished...</td>\n",
       "      <td>Howard Portnoy</td>\n",
       "      <td>Print \\nAn Iranian woman has been sentenced to...</td>\n",
       "      <td>1</td>\n",
       "    </tr>\n",
       "  </tbody>\n",
       "</table>\n",
       "</div>"
      ],
      "text/plain": [
       "   id                                              title              author  \\\n",
       "0   0  House Dem Aide: We Didn’t Even See Comey’s Let...       Darrell Lucus   \n",
       "1   1  FLYNN: Hillary Clinton, Big Woman on Campus - ...     Daniel J. Flynn   \n",
       "2   2                  Why the Truth Might Get You Fired  Consortiumnews.com   \n",
       "3   3  15 Civilians Killed In Single US Airstrike Hav...     Jessica Purkiss   \n",
       "4   4  Iranian woman jailed for fictional unpublished...      Howard Portnoy   \n",
       "\n",
       "                                                text  label  \n",
       "0  House Dem Aide: We Didn’t Even See Comey’s Let...      1  \n",
       "1  Ever get the feeling your life circles the rou...      0  \n",
       "2  Why the Truth Might Get You Fired October 29, ...      1  \n",
       "3  Videos 15 Civilians Killed In Single US Airstr...      1  \n",
       "4  Print \\nAn Iranian woman has been sentenced to...      1  "
      ]
     },
     "execution_count": 5,
     "metadata": {},
     "output_type": "execute_result"
    }
   ],
   "source": [
    "news_dataset.head()"
   ]
  },
  {
   "cell_type": "code",
   "execution_count": 6,
   "id": "wrong-borough",
   "metadata": {
    "execution": {
     "iopub.execute_input": "2021-06-22T19:05:03.275914Z",
     "iopub.status.busy": "2021-06-22T19:05:03.275287Z",
     "iopub.status.idle": "2021-06-22T19:05:03.290966Z",
     "shell.execute_reply": "2021-06-22T19:05:03.291478Z",
     "shell.execute_reply.started": "2021-06-22T18:50:55.586272Z"
    },
    "papermill": {
     "duration": 0.051106,
     "end_time": "2021-06-22T19:05:03.291661",
     "exception": false,
     "start_time": "2021-06-22T19:05:03.240555",
     "status": "completed"
    },
    "tags": []
   },
   "outputs": [
    {
     "data": {
      "text/plain": [
       "id           0\n",
       "title      558\n",
       "author    1957\n",
       "text        39\n",
       "label        0\n",
       "dtype: int64"
      ]
     },
     "execution_count": 6,
     "metadata": {},
     "output_type": "execute_result"
    }
   ],
   "source": [
    "news_dataset.isnull().sum()"
   ]
  },
  {
   "cell_type": "code",
   "execution_count": 7,
   "id": "practical-merchant",
   "metadata": {
    "execution": {
     "iopub.execute_input": "2021-06-22T19:05:03.360525Z",
     "iopub.status.busy": "2021-06-22T19:05:03.359846Z",
     "iopub.status.idle": "2021-06-22T19:05:03.373748Z",
     "shell.execute_reply": "2021-06-22T19:05:03.374258Z",
     "shell.execute_reply.started": "2021-06-22T18:50:55.61629Z"
    },
    "papermill": {
     "duration": 0.050159,
     "end_time": "2021-06-22T19:05:03.374444",
     "exception": false,
     "start_time": "2021-06-22T19:05:03.324285",
     "status": "completed"
    },
    "tags": []
   },
   "outputs": [],
   "source": [
    "# replacing the null values by empty string\n",
    "news_dataset=news_dataset.fillna('')"
   ]
  },
  {
   "cell_type": "code",
   "execution_count": 8,
   "id": "conceptual-november",
   "metadata": {
    "execution": {
     "iopub.execute_input": "2021-06-22T19:05:03.443226Z",
     "iopub.status.busy": "2021-06-22T19:05:03.442560Z",
     "iopub.status.idle": "2021-06-22T19:05:03.459173Z",
     "shell.execute_reply": "2021-06-22T19:05:03.459670Z",
     "shell.execute_reply.started": "2021-06-22T18:50:55.64177Z"
    },
    "papermill": {
     "duration": 0.052919,
     "end_time": "2021-06-22T19:05:03.459866",
     "exception": false,
     "start_time": "2021-06-22T19:05:03.406947",
     "status": "completed"
    },
    "tags": []
   },
   "outputs": [
    {
     "data": {
      "text/plain": [
       "id        0\n",
       "title     0\n",
       "author    0\n",
       "text      0\n",
       "label     0\n",
       "dtype: int64"
      ]
     },
     "execution_count": 8,
     "metadata": {},
     "output_type": "execute_result"
    }
   ],
   "source": [
    "news_dataset.isnull().sum()"
   ]
  },
  {
   "cell_type": "code",
   "execution_count": 9,
   "id": "urban-aerospace",
   "metadata": {
    "execution": {
     "iopub.execute_input": "2021-06-22T19:05:03.535385Z",
     "iopub.status.busy": "2021-06-22T19:05:03.534353Z",
     "iopub.status.idle": "2021-06-22T19:05:03.564671Z",
     "shell.execute_reply": "2021-06-22T19:05:03.565245Z",
     "shell.execute_reply.started": "2021-06-22T18:50:55.672054Z"
    },
    "papermill": {
     "duration": 0.071297,
     "end_time": "2021-06-22T19:05:03.565420",
     "exception": false,
     "start_time": "2021-06-22T19:05:03.494123",
     "status": "completed"
    },
    "tags": []
   },
   "outputs": [],
   "source": [
    "news_dataset['content'] = news_dataset['title']+' '+news_dataset['author']"
   ]
  },
  {
   "cell_type": "code",
   "execution_count": 10,
   "id": "demanding-timing",
   "metadata": {
    "execution": {
     "iopub.execute_input": "2021-06-22T19:05:03.635636Z",
     "iopub.status.busy": "2021-06-22T19:05:03.634684Z",
     "iopub.status.idle": "2021-06-22T19:05:03.647320Z",
     "shell.execute_reply": "2021-06-22T19:05:03.647883Z",
     "shell.execute_reply.started": "2021-06-22T18:50:55.699976Z"
    },
    "papermill": {
     "duration": 0.049391,
     "end_time": "2021-06-22T19:05:03.648057",
     "exception": false,
     "start_time": "2021-06-22T19:05:03.598666",
     "status": "completed"
    },
    "tags": []
   },
   "outputs": [
    {
     "data": {
      "text/html": [
       "<div>\n",
       "<style scoped>\n",
       "    .dataframe tbody tr th:only-of-type {\n",
       "        vertical-align: middle;\n",
       "    }\n",
       "\n",
       "    .dataframe tbody tr th {\n",
       "        vertical-align: top;\n",
       "    }\n",
       "\n",
       "    .dataframe thead th {\n",
       "        text-align: right;\n",
       "    }\n",
       "</style>\n",
       "<table border=\"1\" class=\"dataframe\">\n",
       "  <thead>\n",
       "    <tr style=\"text-align: right;\">\n",
       "      <th></th>\n",
       "      <th>id</th>\n",
       "      <th>title</th>\n",
       "      <th>author</th>\n",
       "      <th>text</th>\n",
       "      <th>label</th>\n",
       "      <th>content</th>\n",
       "    </tr>\n",
       "  </thead>\n",
       "  <tbody>\n",
       "    <tr>\n",
       "      <th>0</th>\n",
       "      <td>0</td>\n",
       "      <td>House Dem Aide: We Didn’t Even See Comey’s Let...</td>\n",
       "      <td>Darrell Lucus</td>\n",
       "      <td>House Dem Aide: We Didn’t Even See Comey’s Let...</td>\n",
       "      <td>1</td>\n",
       "      <td>House Dem Aide: We Didn’t Even See Comey’s Let...</td>\n",
       "    </tr>\n",
       "    <tr>\n",
       "      <th>1</th>\n",
       "      <td>1</td>\n",
       "      <td>FLYNN: Hillary Clinton, Big Woman on Campus - ...</td>\n",
       "      <td>Daniel J. Flynn</td>\n",
       "      <td>Ever get the feeling your life circles the rou...</td>\n",
       "      <td>0</td>\n",
       "      <td>FLYNN: Hillary Clinton, Big Woman on Campus - ...</td>\n",
       "    </tr>\n",
       "    <tr>\n",
       "      <th>2</th>\n",
       "      <td>2</td>\n",
       "      <td>Why the Truth Might Get You Fired</td>\n",
       "      <td>Consortiumnews.com</td>\n",
       "      <td>Why the Truth Might Get You Fired October 29, ...</td>\n",
       "      <td>1</td>\n",
       "      <td>Why the Truth Might Get You Fired Consortiumne...</td>\n",
       "    </tr>\n",
       "    <tr>\n",
       "      <th>3</th>\n",
       "      <td>3</td>\n",
       "      <td>15 Civilians Killed In Single US Airstrike Hav...</td>\n",
       "      <td>Jessica Purkiss</td>\n",
       "      <td>Videos 15 Civilians Killed In Single US Airstr...</td>\n",
       "      <td>1</td>\n",
       "      <td>15 Civilians Killed In Single US Airstrike Hav...</td>\n",
       "    </tr>\n",
       "    <tr>\n",
       "      <th>4</th>\n",
       "      <td>4</td>\n",
       "      <td>Iranian woman jailed for fictional unpublished...</td>\n",
       "      <td>Howard Portnoy</td>\n",
       "      <td>Print \\nAn Iranian woman has been sentenced to...</td>\n",
       "      <td>1</td>\n",
       "      <td>Iranian woman jailed for fictional unpublished...</td>\n",
       "    </tr>\n",
       "  </tbody>\n",
       "</table>\n",
       "</div>"
      ],
      "text/plain": [
       "   id                                              title              author  \\\n",
       "0   0  House Dem Aide: We Didn’t Even See Comey’s Let...       Darrell Lucus   \n",
       "1   1  FLYNN: Hillary Clinton, Big Woman on Campus - ...     Daniel J. Flynn   \n",
       "2   2                  Why the Truth Might Get You Fired  Consortiumnews.com   \n",
       "3   3  15 Civilians Killed In Single US Airstrike Hav...     Jessica Purkiss   \n",
       "4   4  Iranian woman jailed for fictional unpublished...      Howard Portnoy   \n",
       "\n",
       "                                                text  label  \\\n",
       "0  House Dem Aide: We Didn’t Even See Comey’s Let...      1   \n",
       "1  Ever get the feeling your life circles the rou...      0   \n",
       "2  Why the Truth Might Get You Fired October 29, ...      1   \n",
       "3  Videos 15 Civilians Killed In Single US Airstr...      1   \n",
       "4  Print \\nAn Iranian woman has been sentenced to...      1   \n",
       "\n",
       "                                             content  \n",
       "0  House Dem Aide: We Didn’t Even See Comey’s Let...  \n",
       "1  FLYNN: Hillary Clinton, Big Woman on Campus - ...  \n",
       "2  Why the Truth Might Get You Fired Consortiumne...  \n",
       "3  15 Civilians Killed In Single US Airstrike Hav...  \n",
       "4  Iranian woman jailed for fictional unpublished...  "
      ]
     },
     "execution_count": 10,
     "metadata": {},
     "output_type": "execute_result"
    }
   ],
   "source": [
    "news_dataset.head()"
   ]
  },
  {
   "cell_type": "code",
   "execution_count": 11,
   "id": "critical-compensation",
   "metadata": {
    "execution": {
     "iopub.execute_input": "2021-06-22T19:05:03.718675Z",
     "iopub.status.busy": "2021-06-22T19:05:03.717723Z",
     "iopub.status.idle": "2021-06-22T19:05:03.729389Z",
     "shell.execute_reply": "2021-06-22T19:05:03.729928Z",
     "shell.execute_reply.started": "2021-06-22T18:50:55.72219Z"
    },
    "papermill": {
     "duration": 0.048527,
     "end_time": "2021-06-22T19:05:03.730105",
     "exception": false,
     "start_time": "2021-06-22T19:05:03.681578",
     "status": "completed"
    },
    "tags": []
   },
   "outputs": [],
   "source": [
    "#separating the data & lable\n",
    "X= news_dataset.drop('label',axis=1)\n",
    "Y= news_dataset['label']"
   ]
  },
  {
   "cell_type": "code",
   "execution_count": 12,
   "id": "judicial-sweden",
   "metadata": {
    "execution": {
     "iopub.execute_input": "2021-06-22T19:05:03.801792Z",
     "iopub.status.busy": "2021-06-22T19:05:03.800801Z",
     "iopub.status.idle": "2021-06-22T19:05:03.813216Z",
     "shell.execute_reply": "2021-06-22T19:05:03.813786Z",
     "shell.execute_reply.started": "2021-06-22T18:50:55.750221Z"
    },
    "papermill": {
     "duration": 0.050476,
     "end_time": "2021-06-22T19:05:03.813978",
     "exception": false,
     "start_time": "2021-06-22T19:05:03.763502",
     "status": "completed"
    },
    "tags": []
   },
   "outputs": [
    {
     "name": "stdout",
     "output_type": "stream",
     "text": [
      "          id                                              title  \\\n",
      "0          0  House Dem Aide: We Didn’t Even See Comey’s Let...   \n",
      "1          1  FLYNN: Hillary Clinton, Big Woman on Campus - ...   \n",
      "2          2                  Why the Truth Might Get You Fired   \n",
      "3          3  15 Civilians Killed In Single US Airstrike Hav...   \n",
      "4          4  Iranian woman jailed for fictional unpublished...   \n",
      "...      ...                                                ...   \n",
      "20795  20795  Rapper T.I.: Trump a ’Poster Child For White S...   \n",
      "20796  20796  N.F.L. Playoffs: Schedule, Matchups and Odds -...   \n",
      "20797  20797  Macy’s Is Said to Receive Takeover Approach by...   \n",
      "20798  20798  NATO, Russia To Hold Parallel Exercises In Bal...   \n",
      "20799  20799                          What Keeps the F-35 Alive   \n",
      "\n",
      "                                          author  \\\n",
      "0                                  Darrell Lucus   \n",
      "1                                Daniel J. Flynn   \n",
      "2                             Consortiumnews.com   \n",
      "3                                Jessica Purkiss   \n",
      "4                                 Howard Portnoy   \n",
      "...                                          ...   \n",
      "20795                              Jerome Hudson   \n",
      "20796                           Benjamin Hoffman   \n",
      "20797  Michael J. de la Merced and Rachel Abrams   \n",
      "20798                                Alex Ansary   \n",
      "20799                              David Swanson   \n",
      "\n",
      "                                                    text  \\\n",
      "0      House Dem Aide: We Didn’t Even See Comey’s Let...   \n",
      "1      Ever get the feeling your life circles the rou...   \n",
      "2      Why the Truth Might Get You Fired October 29, ...   \n",
      "3      Videos 15 Civilians Killed In Single US Airstr...   \n",
      "4      Print \\nAn Iranian woman has been sentenced to...   \n",
      "...                                                  ...   \n",
      "20795  Rapper T. I. unloaded on black celebrities who...   \n",
      "20796  When the Green Bay Packers lost to the Washing...   \n",
      "20797  The Macy’s of today grew from the union of sev...   \n",
      "20798  NATO, Russia To Hold Parallel Exercises In Bal...   \n",
      "20799    David Swanson is an author, activist, journa...   \n",
      "\n",
      "                                                 content  \n",
      "0      House Dem Aide: We Didn’t Even See Comey’s Let...  \n",
      "1      FLYNN: Hillary Clinton, Big Woman on Campus - ...  \n",
      "2      Why the Truth Might Get You Fired Consortiumne...  \n",
      "3      15 Civilians Killed In Single US Airstrike Hav...  \n",
      "4      Iranian woman jailed for fictional unpublished...  \n",
      "...                                                  ...  \n",
      "20795  Rapper T.I.: Trump a ’Poster Child For White S...  \n",
      "20796  N.F.L. Playoffs: Schedule, Matchups and Odds -...  \n",
      "20797  Macy’s Is Said to Receive Takeover Approach by...  \n",
      "20798  NATO, Russia To Hold Parallel Exercises In Bal...  \n",
      "20799            What Keeps the F-35 Alive David Swanson  \n",
      "\n",
      "[20800 rows x 5 columns]\n",
      "0        1\n",
      "1        0\n",
      "2        1\n",
      "3        1\n",
      "4        1\n",
      "        ..\n",
      "20795    0\n",
      "20796    0\n",
      "20797    0\n",
      "20798    1\n",
      "20799    1\n",
      "Name: label, Length: 20800, dtype: int64\n"
     ]
    }
   ],
   "source": [
    "print(X)\n",
    "print(Y)"
   ]
  },
  {
   "cell_type": "code",
   "execution_count": 13,
   "id": "solar-annotation",
   "metadata": {
    "execution": {
     "iopub.execute_input": "2021-06-22T19:05:03.885799Z",
     "iopub.status.busy": "2021-06-22T19:05:03.884744Z",
     "iopub.status.idle": "2021-06-22T19:05:03.888509Z",
     "shell.execute_reply": "2021-06-22T19:05:03.889118Z",
     "shell.execute_reply.started": "2021-06-22T18:50:55.76475Z"
    },
    "papermill": {
     "duration": 0.04175,
     "end_time": "2021-06-22T19:05:03.889302",
     "exception": false,
     "start_time": "2021-06-22T19:05:03.847552",
     "status": "completed"
    },
    "tags": []
   },
   "outputs": [],
   "source": [
    "####steeming:\n",
    "#steeming is the process of reducing a word to its root word\n",
    "#Example :  actor,actress , acting ---> act"
   ]
  },
  {
   "cell_type": "code",
   "execution_count": 14,
   "id": "transsexual-reality",
   "metadata": {
    "execution": {
     "iopub.execute_input": "2021-06-22T19:05:03.961426Z",
     "iopub.status.busy": "2021-06-22T19:05:03.960436Z",
     "iopub.status.idle": "2021-06-22T19:05:03.964469Z",
     "shell.execute_reply": "2021-06-22T19:05:03.965104Z",
     "shell.execute_reply.started": "2021-06-22T18:50:55.778726Z"
    },
    "papermill": {
     "duration": 0.042041,
     "end_time": "2021-06-22T19:05:03.965282",
     "exception": false,
     "start_time": "2021-06-22T19:05:03.923241",
     "status": "completed"
    },
    "tags": []
   },
   "outputs": [],
   "source": [
    "port_stem = PorterStemmer()"
   ]
  },
  {
   "cell_type": "code",
   "execution_count": 15,
   "id": "comfortable-honolulu",
   "metadata": {
    "execution": {
     "iopub.execute_input": "2021-06-22T19:05:04.036803Z",
     "iopub.status.busy": "2021-06-22T19:05:04.035881Z",
     "iopub.status.idle": "2021-06-22T19:05:04.041601Z",
     "shell.execute_reply": "2021-06-22T19:05:04.042169Z",
     "shell.execute_reply.started": "2021-06-22T18:50:55.796095Z"
    },
    "papermill": {
     "duration": 0.04316,
     "end_time": "2021-06-22T19:05:04.042341",
     "exception": false,
     "start_time": "2021-06-22T19:05:03.999181",
     "status": "completed"
    },
    "tags": []
   },
   "outputs": [],
   "source": [
    "def stemming(content):\n",
    "    stemmed_content = re.sub('[^a-zA-z]',' ',content)\n",
    "    stemmed_content = stemmed_content.lower()\n",
    "    stemmed_content = stemmed_content.split()\n",
    "    stemmed_content = [port_stem.stem(word)for word in stemmed_content if not word in stopwords.words('english')]\n",
    "    stemmed_content = ' '.join(stemmed_content)\n",
    "    return stemmed_content\n",
    "                "
   ]
  },
  {
   "cell_type": "code",
   "execution_count": 16,
   "id": "cleared-munich",
   "metadata": {
    "execution": {
     "iopub.execute_input": "2021-06-22T19:05:04.115324Z",
     "iopub.status.busy": "2021-06-22T19:05:04.114651Z",
     "iopub.status.idle": "2021-06-22T19:05:49.300845Z",
     "shell.execute_reply": "2021-06-22T19:05:49.300259Z",
     "shell.execute_reply.started": "2021-06-22T18:50:55.80815Z"
    },
    "papermill": {
     "duration": 45.225297,
     "end_time": "2021-06-22T19:05:49.301010",
     "exception": false,
     "start_time": "2021-06-22T19:05:04.075713",
     "status": "completed"
    },
    "tags": []
   },
   "outputs": [],
   "source": [
    "news_dataset['content'] = news_dataset['content'].apply(stemming)"
   ]
  },
  {
   "cell_type": "code",
   "execution_count": 17,
   "id": "stock-italy",
   "metadata": {
    "execution": {
     "iopub.execute_input": "2021-06-22T19:05:49.376055Z",
     "iopub.status.busy": "2021-06-22T19:05:49.375333Z",
     "iopub.status.idle": "2021-06-22T19:05:49.377961Z",
     "shell.execute_reply": "2021-06-22T19:05:49.378576Z",
     "shell.execute_reply.started": "2021-06-22T18:51:39.898796Z"
    },
    "papermill": {
     "duration": 0.043182,
     "end_time": "2021-06-22T19:05:49.378749",
     "exception": false,
     "start_time": "2021-06-22T19:05:49.335567",
     "status": "completed"
    },
    "tags": []
   },
   "outputs": [
    {
     "name": "stdout",
     "output_type": "stream",
     "text": [
      "0        hous dem aid even see comey letter jason chaff...\n",
      "1        flynn hillari clinton big woman campu breitbar...\n",
      "2                   truth might get fire consortiumnew com\n",
      "3        civilian kill singl us airstrik identifi jessi...\n",
      "4        iranian woman jail fiction unpublish stori wom...\n",
      "                               ...                        \n",
      "20795    rapper trump poster child white supremaci jero...\n",
      "20796    n f l playoff schedul matchup odd new york tim...\n",
      "20797    maci said receiv takeov approach hudson bay ne...\n",
      "20798    nato russia hold parallel exercis balkan alex ...\n",
      "20799                            keep f aliv david swanson\n",
      "Name: content, Length: 20800, dtype: object\n"
     ]
    }
   ],
   "source": [
    "print(news_dataset['content'])"
   ]
  },
  {
   "cell_type": "code",
   "execution_count": 18,
   "id": "intimate-operator",
   "metadata": {
    "execution": {
     "iopub.execute_input": "2021-06-22T19:05:49.450106Z",
     "iopub.status.busy": "2021-06-22T19:05:49.449424Z",
     "iopub.status.idle": "2021-06-22T19:05:49.456182Z",
     "shell.execute_reply": "2021-06-22T19:05:49.455340Z",
     "shell.execute_reply.started": "2021-06-22T18:51:39.908306Z"
    },
    "papermill": {
     "duration": 0.04331,
     "end_time": "2021-06-22T19:05:49.456341",
     "exception": false,
     "start_time": "2021-06-22T19:05:49.413031",
     "status": "completed"
    },
    "tags": []
   },
   "outputs": [],
   "source": [
    "#seperatingthe data and label\n",
    "X= news_dataset['content'].values\n",
    "Y= news_dataset['label'].values"
   ]
  },
  {
   "cell_type": "code",
   "execution_count": 19,
   "id": "continent-density",
   "metadata": {
    "execution": {
     "iopub.execute_input": "2021-06-22T19:05:49.527949Z",
     "iopub.status.busy": "2021-06-22T19:05:49.527303Z",
     "iopub.status.idle": "2021-06-22T19:05:49.532661Z",
     "shell.execute_reply": "2021-06-22T19:05:49.532165Z",
     "shell.execute_reply.started": "2021-06-22T18:51:39.922445Z"
    },
    "papermill": {
     "duration": 0.042212,
     "end_time": "2021-06-22T19:05:49.532826",
     "exception": false,
     "start_time": "2021-06-22T19:05:49.490614",
     "status": "completed"
    },
    "tags": []
   },
   "outputs": [
    {
     "name": "stdout",
     "output_type": "stream",
     "text": [
      "['hous dem aid even see comey letter jason chaffetz tweet darrel lucu'\n",
      " 'flynn hillari clinton big woman campu breitbart daniel j flynn'\n",
      " 'truth might get fire consortiumnew com' ...\n",
      " 'maci said receiv takeov approach hudson bay new york time michael j de la merc rachel abram'\n",
      " 'nato russia hold parallel exercis balkan alex ansari'\n",
      " 'keep f aliv david swanson']\n"
     ]
    }
   ],
   "source": [
    "print(X)"
   ]
  },
  {
   "cell_type": "code",
   "execution_count": 20,
   "id": "defensive-determination",
   "metadata": {
    "execution": {
     "iopub.execute_input": "2021-06-22T19:05:49.606975Z",
     "iopub.status.busy": "2021-06-22T19:05:49.606248Z",
     "iopub.status.idle": "2021-06-22T19:05:49.609463Z",
     "shell.execute_reply": "2021-06-22T19:05:49.609970Z",
     "shell.execute_reply.started": "2021-06-22T18:51:39.942213Z"
    },
    "papermill": {
     "duration": 0.043013,
     "end_time": "2021-06-22T19:05:49.610148",
     "exception": false,
     "start_time": "2021-06-22T19:05:49.567135",
     "status": "completed"
    },
    "tags": []
   },
   "outputs": [
    {
     "name": "stdout",
     "output_type": "stream",
     "text": [
      "[1 0 1 ... 0 1 1]\n"
     ]
    }
   ],
   "source": [
    "print(Y)"
   ]
  },
  {
   "cell_type": "raw",
   "id": "painful-legislature",
   "metadata": {
    "papermill": {
     "duration": 0.034269,
     "end_time": "2021-06-22T19:05:49.679245",
     "exception": false,
     "start_time": "2021-06-22T19:05:49.644976",
     "status": "completed"
    },
    "tags": []
   },
   "source": [
    "Y.shape"
   ]
  },
  {
   "cell_type": "code",
   "execution_count": 21,
   "id": "restricted-breakdown",
   "metadata": {
    "execution": {
     "iopub.execute_input": "2021-06-22T19:05:49.753943Z",
     "iopub.status.busy": "2021-06-22T19:05:49.752912Z",
     "iopub.status.idle": "2021-06-22T19:05:49.757272Z",
     "shell.execute_reply": "2021-06-22T19:05:49.757727Z",
     "shell.execute_reply.started": "2021-06-22T18:51:39.958545Z"
    },
    "papermill": {
     "duration": 0.044154,
     "end_time": "2021-06-22T19:05:49.757920",
     "exception": false,
     "start_time": "2021-06-22T19:05:49.713766",
     "status": "completed"
    },
    "tags": []
   },
   "outputs": [
    {
     "data": {
      "text/plain": [
       "(20800,)"
      ]
     },
     "execution_count": 21,
     "metadata": {},
     "output_type": "execute_result"
    }
   ],
   "source": [
    "Y.shape"
   ]
  },
  {
   "cell_type": "code",
   "execution_count": null,
   "id": "statistical-wisconsin",
   "metadata": {
    "papermill": {
     "duration": 0.035597,
     "end_time": "2021-06-22T19:05:49.828658",
     "exception": false,
     "start_time": "2021-06-22T19:05:49.793061",
     "status": "completed"
    },
    "tags": []
   },
   "outputs": [],
   "source": []
  },
  {
   "cell_type": "markdown",
   "id": "pleased-savannah",
   "metadata": {
    "papermill": {
     "duration": 0.034328,
     "end_time": "2021-06-22T19:05:49.897691",
     "exception": false,
     "start_time": "2021-06-22T19:05:49.863363",
     "status": "completed"
    },
    "tags": []
   },
   "source": [
    "converting the textual into numerical"
   ]
  },
  {
   "cell_type": "code",
   "execution_count": 22,
   "id": "frozen-envelope",
   "metadata": {
    "execution": {
     "iopub.execute_input": "2021-06-22T19:05:49.985761Z",
     "iopub.status.busy": "2021-06-22T19:05:49.980581Z",
     "iopub.status.idle": "2021-06-22T19:05:50.813342Z",
     "shell.execute_reply": "2021-06-22T19:05:50.812440Z",
     "shell.execute_reply.started": "2021-06-22T18:51:39.969057Z"
    },
    "papermill": {
     "duration": 0.881352,
     "end_time": "2021-06-22T19:05:50.813586",
     "exception": false,
     "start_time": "2021-06-22T19:05:49.932234",
     "status": "completed"
    },
    "tags": []
   },
   "outputs": [],
   "source": [
    "vectorizer = TfidfVectorizer()\n",
    "vectorizer.fit(X)\n",
    "\n",
    "X = vectorizer.transform(X)"
   ]
  },
  {
   "cell_type": "code",
   "execution_count": 23,
   "id": "biblical-lease",
   "metadata": {
    "execution": {
     "iopub.execute_input": "2021-06-22T19:05:50.888559Z",
     "iopub.status.busy": "2021-06-22T19:05:50.887937Z",
     "iopub.status.idle": "2021-06-22T19:05:50.895177Z",
     "shell.execute_reply": "2021-06-22T19:05:50.895672Z",
     "shell.execute_reply.started": "2021-06-22T18:51:40.70122Z"
    },
    "papermill": {
     "duration": 0.046747,
     "end_time": "2021-06-22T19:05:50.895834",
     "exception": false,
     "start_time": "2021-06-22T19:05:50.849087",
     "status": "completed"
    },
    "tags": []
   },
   "outputs": [
    {
     "name": "stdout",
     "output_type": "stream",
     "text": [
      "  (0, 15697)\t0.28485063562728646\n",
      "  (0, 13480)\t0.2565896679337957\n",
      "  (0, 8915)\t0.3635963806326075\n",
      "  (0, 8636)\t0.29212514087043684\n",
      "  (0, 7698)\t0.24785219520671603\n",
      "  (0, 7012)\t0.21874169089359144\n",
      "  (0, 4979)\t0.233316966909351\n",
      "  (0, 3795)\t0.2705332480845492\n",
      "  (0, 3603)\t0.3598939188262559\n",
      "  (0, 2962)\t0.2468450128533713\n",
      "  (0, 2485)\t0.3676519686797209\n",
      "  (0, 268)\t0.27010124977708766\n",
      "  (1, 16812)\t0.30071745655510157\n",
      "  (1, 6823)\t0.1904660198296849\n",
      "  (1, 5510)\t0.7143299355715573\n",
      "  (1, 3571)\t0.26373768806048464\n",
      "  (1, 2816)\t0.19094574062359204\n",
      "  (1, 2224)\t0.3827320386859759\n",
      "  (1, 1895)\t0.15521974226349364\n",
      "  (1, 1498)\t0.2939891562094648\n",
      "  (2, 15622)\t0.41544962664721613\n",
      "  (2, 9625)\t0.49351492943649944\n",
      "  (2, 5975)\t0.3474613386728292\n",
      "  (2, 5396)\t0.3866530551182615\n",
      "  (2, 3106)\t0.46097489583229645\n",
      "  :\t:\n",
      "  (20797, 13128)\t0.2482526352197606\n",
      "  (20797, 12350)\t0.27263457663336677\n",
      "  (20797, 12144)\t0.24778257724396507\n",
      "  (20797, 10311)\t0.08038079000566466\n",
      "  (20797, 9593)\t0.174553480255222\n",
      "  (20797, 9523)\t0.2954204003420313\n",
      "  (20797, 8994)\t0.36160868928090795\n",
      "  (20797, 8370)\t0.22322585870464118\n",
      "  (20797, 7049)\t0.21799048897828688\n",
      "  (20797, 3646)\t0.21155500613623743\n",
      "  (20797, 1288)\t0.33538056804139865\n",
      "  (20797, 700)\t0.30685846079762347\n",
      "  (20797, 44)\t0.29710241860700626\n",
      "  (20798, 13052)\t0.22363267488270608\n",
      "  (20798, 11057)\t0.4460515589182236\n",
      "  (20798, 10182)\t0.3192496370187028\n",
      "  (20798, 6896)\t0.32496285694299426\n",
      "  (20798, 5038)\t0.4083701450239529\n",
      "  (20798, 1126)\t0.4460515589182236\n",
      "  (20798, 589)\t0.3112141524638974\n",
      "  (20798, 351)\t0.28446937819072576\n",
      "  (20799, 14861)\t0.5677577267055112\n",
      "  (20799, 8042)\t0.45983893273780013\n",
      "  (20799, 3626)\t0.37927626273066584\n",
      "  (20799, 378)\t0.5677577267055112\n"
     ]
    }
   ],
   "source": [
    "print(X)"
   ]
  },
  {
   "cell_type": "code",
   "execution_count": null,
   "id": "accepting-receipt",
   "metadata": {
    "papermill": {
     "duration": 0.034902,
     "end_time": "2021-06-22T19:05:50.966036",
     "exception": false,
     "start_time": "2021-06-22T19:05:50.931134",
     "status": "completed"
    },
    "tags": []
   },
   "outputs": [],
   "source": []
  },
  {
   "cell_type": "markdown",
   "id": "closing-firewall",
   "metadata": {
    "papermill": {
     "duration": 0.034929,
     "end_time": "2021-06-22T19:05:51.036207",
     "exception": false,
     "start_time": "2021-06-22T19:05:51.001278",
     "status": "completed"
    },
    "tags": []
   },
   "source": [
    "splitting the data set in training an test data"
   ]
  },
  {
   "cell_type": "code",
   "execution_count": 24,
   "id": "major-appliance",
   "metadata": {
    "execution": {
     "iopub.execute_input": "2021-06-22T19:05:51.112950Z",
     "iopub.status.busy": "2021-06-22T19:05:51.112256Z",
     "iopub.status.idle": "2021-06-22T19:05:51.134851Z",
     "shell.execute_reply": "2021-06-22T19:05:51.134192Z",
     "shell.execute_reply.started": "2021-06-22T18:51:40.71334Z"
    },
    "papermill": {
     "duration": 0.063646,
     "end_time": "2021-06-22T19:05:51.134995",
     "exception": false,
     "start_time": "2021-06-22T19:05:51.071349",
     "status": "completed"
    },
    "tags": []
   },
   "outputs": [],
   "source": [
    "X_train,X_test,Y_train,Y_test=train_test_split(X,Y,test_size=0.2,stratify=Y,random_state=2)"
   ]
  },
  {
   "cell_type": "markdown",
   "id": "medium-frequency",
   "metadata": {
    "papermill": {
     "duration": 0.035064,
     "end_time": "2021-06-22T19:05:51.205353",
     "exception": false,
     "start_time": "2021-06-22T19:05:51.170289",
     "status": "completed"
    },
    "tags": []
   },
   "source": [
    "trainin the model logistic regression model"
   ]
  },
  {
   "cell_type": "code",
   "execution_count": 25,
   "id": "convinced-necessity",
   "metadata": {
    "execution": {
     "iopub.execute_input": "2021-06-22T19:05:51.280995Z",
     "iopub.status.busy": "2021-06-22T19:05:51.280250Z",
     "iopub.status.idle": "2021-06-22T19:05:51.282552Z",
     "shell.execute_reply": "2021-06-22T19:05:51.283011Z",
     "shell.execute_reply.started": "2021-06-22T18:51:40.742847Z"
    },
    "papermill": {
     "duration": 0.042646,
     "end_time": "2021-06-22T19:05:51.283189",
     "exception": false,
     "start_time": "2021-06-22T19:05:51.240543",
     "status": "completed"
    },
    "tags": []
   },
   "outputs": [],
   "source": [
    "model = LogisticRegression()"
   ]
  },
  {
   "cell_type": "code",
   "execution_count": 26,
   "id": "funky-camcorder",
   "metadata": {
    "execution": {
     "iopub.execute_input": "2021-06-22T19:05:51.358390Z",
     "iopub.status.busy": "2021-06-22T19:05:51.357725Z",
     "iopub.status.idle": "2021-06-22T19:05:51.774894Z",
     "shell.execute_reply": "2021-06-22T19:05:51.776322Z",
     "shell.execute_reply.started": "2021-06-22T18:51:40.749565Z"
    },
    "papermill": {
     "duration": 0.458043,
     "end_time": "2021-06-22T19:05:51.776589",
     "exception": false,
     "start_time": "2021-06-22T19:05:51.318546",
     "status": "completed"
    },
    "tags": []
   },
   "outputs": [
    {
     "data": {
      "text/plain": [
       "LogisticRegression()"
      ]
     },
     "execution_count": 26,
     "metadata": {},
     "output_type": "execute_result"
    }
   ],
   "source": [
    "model.fit(X_train,Y_train)"
   ]
  },
  {
   "cell_type": "code",
   "execution_count": 27,
   "id": "inside-parade",
   "metadata": {
    "execution": {
     "iopub.execute_input": "2021-06-22T19:05:51.922042Z",
     "iopub.status.busy": "2021-06-22T19:05:51.920921Z",
     "iopub.status.idle": "2021-06-22T19:05:51.924087Z",
     "shell.execute_reply": "2021-06-22T19:05:51.923445Z",
     "shell.execute_reply.started": "2021-06-22T18:51:41.44049Z"
    },
    "papermill": {
     "duration": 0.043328,
     "end_time": "2021-06-22T19:05:51.924225",
     "exception": false,
     "start_time": "2021-06-22T19:05:51.880897",
     "status": "completed"
    },
    "tags": []
   },
   "outputs": [],
   "source": [
    "#evaluation\n",
    "\n",
    "#accuracy score\n"
   ]
  },
  {
   "cell_type": "code",
   "execution_count": 28,
   "id": "swedish-comedy",
   "metadata": {
    "execution": {
     "iopub.execute_input": "2021-06-22T19:05:52.001513Z",
     "iopub.status.busy": "2021-06-22T19:05:52.000730Z",
     "iopub.status.idle": "2021-06-22T19:05:52.007539Z",
     "shell.execute_reply": "2021-06-22T19:05:52.006726Z",
     "shell.execute_reply.started": "2021-06-22T18:51:41.45914Z"
    },
    "papermill": {
     "duration": 0.047515,
     "end_time": "2021-06-22T19:05:52.007702",
     "exception": false,
     "start_time": "2021-06-22T19:05:51.960187",
     "status": "completed"
    },
    "tags": []
   },
   "outputs": [],
   "source": [
    "#accuracy score on the trsining data\n",
    "X_train_prediction = model.predict(X_train)\n",
    "training_data_accuracy = accuracy_score(X_train_prediction,Y_train)"
   ]
  },
  {
   "cell_type": "code",
   "execution_count": 29,
   "id": "secondary-logan",
   "metadata": {
    "execution": {
     "iopub.execute_input": "2021-06-22T19:05:52.084767Z",
     "iopub.status.busy": "2021-06-22T19:05:52.084089Z",
     "iopub.status.idle": "2021-06-22T19:05:52.087336Z",
     "shell.execute_reply": "2021-06-22T19:05:52.087771Z",
     "shell.execute_reply.started": "2021-06-22T18:51:41.493488Z"
    },
    "papermill": {
     "duration": 0.044538,
     "end_time": "2021-06-22T19:05:52.087973",
     "exception": false,
     "start_time": "2021-06-22T19:05:52.043435",
     "status": "completed"
    },
    "tags": []
   },
   "outputs": [
    {
     "name": "stdout",
     "output_type": "stream",
     "text": [
      "Accuracy score of the training data :  0.9864783653846154\n"
     ]
    }
   ],
   "source": [
    "print('Accuracy score of the training data : ',training_data_accuracy)"
   ]
  },
  {
   "cell_type": "code",
   "execution_count": 30,
   "id": "informative-project",
   "metadata": {
    "execution": {
     "iopub.execute_input": "2021-06-22T19:05:52.166079Z",
     "iopub.status.busy": "2021-06-22T19:05:52.165120Z",
     "iopub.status.idle": "2021-06-22T19:05:52.169795Z",
     "shell.execute_reply": "2021-06-22T19:05:52.169187Z",
     "shell.execute_reply.started": "2021-06-22T18:51:41.520109Z"
    },
    "papermill": {
     "duration": 0.045375,
     "end_time": "2021-06-22T19:05:52.169952",
     "exception": false,
     "start_time": "2021-06-22T19:05:52.124577",
     "status": "completed"
    },
    "tags": []
   },
   "outputs": [],
   "source": [
    "#accuracy score on the test data\n",
    "X_test_prediction = model.predict(X_test)\n",
    "test_data_accuracy = accuracy_score(X_test_prediction,Y_test)"
   ]
  },
  {
   "cell_type": "code",
   "execution_count": 31,
   "id": "marked-charge",
   "metadata": {
    "execution": {
     "iopub.execute_input": "2021-06-22T19:05:52.247400Z",
     "iopub.status.busy": "2021-06-22T19:05:52.246655Z",
     "iopub.status.idle": "2021-06-22T19:05:52.250451Z",
     "shell.execute_reply": "2021-06-22T19:05:52.249785Z",
     "shell.execute_reply.started": "2021-06-22T18:51:41.540768Z"
    },
    "papermill": {
     "duration": 0.044448,
     "end_time": "2021-06-22T19:05:52.250599",
     "exception": false,
     "start_time": "2021-06-22T19:05:52.206151",
     "status": "completed"
    },
    "tags": []
   },
   "outputs": [
    {
     "name": "stdout",
     "output_type": "stream",
     "text": [
      "Accuracy score of the test data :  0.9790865384615385\n"
     ]
    }
   ],
   "source": [
    "print('Accuracy score of the test data : ',test_data_accuracy)"
   ]
  },
  {
   "cell_type": "code",
   "execution_count": 32,
   "id": "seven-collar",
   "metadata": {
    "execution": {
     "iopub.execute_input": "2021-06-22T19:05:52.328103Z",
     "iopub.status.busy": "2021-06-22T19:05:52.327394Z",
     "iopub.status.idle": "2021-06-22T19:05:52.330558Z",
     "shell.execute_reply": "2021-06-22T19:05:52.330027Z",
     "shell.execute_reply.started": "2021-06-22T18:51:41.554778Z"
    },
    "papermill": {
     "duration": 0.043523,
     "end_time": "2021-06-22T19:05:52.330693",
     "exception": false,
     "start_time": "2021-06-22T19:05:52.287170",
     "status": "completed"
    },
    "tags": []
   },
   "outputs": [],
   "source": [
    "#final step\n",
    "\n",
    "# maing a predictive sysytem\n"
   ]
  },
  {
   "cell_type": "code",
   "execution_count": 33,
   "id": "headed-payroll",
   "metadata": {
    "execution": {
     "iopub.execute_input": "2021-06-22T19:05:52.410555Z",
     "iopub.status.busy": "2021-06-22T19:05:52.409895Z",
     "iopub.status.idle": "2021-06-22T19:05:52.412230Z",
     "shell.execute_reply": "2021-06-22T19:05:52.412788Z",
     "shell.execute_reply.started": "2021-06-22T18:51:41.562206Z"
    },
    "papermill": {
     "duration": 0.045719,
     "end_time": "2021-06-22T19:05:52.412971",
     "exception": false,
     "start_time": "2021-06-22T19:05:52.367252",
     "status": "completed"
    },
    "tags": []
   },
   "outputs": [
    {
     "name": "stdout",
     "output_type": "stream",
     "text": [
      "[1]\n",
      "the news is fake\n"
     ]
    }
   ],
   "source": [
    "X_new = X_test[0]\n",
    "\n",
    "prediction = model.predict(X_new)\n",
    "print(prediction)\n",
    "\n",
    "if (prediction[0]==0):\n",
    "    print(\"the news is real\")\n",
    "else:\n",
    "    print(\"the news is fake\")"
   ]
  },
  {
   "cell_type": "code",
   "execution_count": 34,
   "id": "impossible-finger",
   "metadata": {
    "execution": {
     "iopub.execute_input": "2021-06-22T19:05:52.489329Z",
     "iopub.status.busy": "2021-06-22T19:05:52.488660Z",
     "iopub.status.idle": "2021-06-22T19:05:52.493266Z",
     "shell.execute_reply": "2021-06-22T19:05:52.493764Z",
     "shell.execute_reply.started": "2021-06-22T18:51:41.581026Z"
    },
    "papermill": {
     "duration": 0.044062,
     "end_time": "2021-06-22T19:05:52.493944",
     "exception": false,
     "start_time": "2021-06-22T19:05:52.449882",
     "status": "completed"
    },
    "tags": []
   },
   "outputs": [
    {
     "name": "stdout",
     "output_type": "stream",
     "text": [
      "1\n"
     ]
    }
   ],
   "source": [
    "print(Y_test[0])"
   ]
  },
  {
   "cell_type": "markdown",
   "id": "described-radiation",
   "metadata": {
    "papermill": {
     "duration": 0.036686,
     "end_time": "2021-06-22T19:05:52.567336",
     "exception": false,
     "start_time": "2021-06-22T19:05:52.530650",
     "status": "completed"
    },
    "tags": []
   },
   "source": [
    "-------- SAMALL RECAP-------\n",
    "\n",
    "1--1 FAKE \n",
    "2--0 REAL\n",
    "3--STOPWORDS= WHICH DOESNOT ADD MORE VALUE TO IT\n",
    "4--GET SHAPE AND SAMPLE OF THE DATA SET\n",
    "5--GET NO. OF NULL VALUES THEN REPLACE WITH EMPTY STRING\n",
    "6--MERGE AUTHOR AND TITLE COLUMN(WHICH WILL US FOR MAKING THE PREDICTIONS)\n",
    "7--THEN WE CAL THE MERGE PART AS \"CONTENT\"\n",
    "8--SEPARATE THE X AND Y , WHIC X CONTAINS THE DATA AND Y IS LABLE\n",
    "9--STEMMING =REDUCES TO ITS ROOT WORD\n",
    "10--REMOVE ALL THE (STOP WORDS)\n",
    "11--ALL STORED IN THE CONTENT COLUMN \n",
    "12--CONVERT ALL THE TEXT DATA TO MEANINGFULL NUMBERS USING \"TfidfVectorizer\"\n",
    "13-- split train and test\n",
    "14--train logistic regrssion model with \"X_train\" and \"Y_train\"\n",
    "15--THEN WE FOUND THE ACCURACY SCORE FOR THE TRAINING DATA \n",
    "16--"
   ]
  }
 ],
 "metadata": {
  "kernelspec": {
   "display_name": "Python 3",
   "language": "python",
   "name": "python3"
  },
  "language_info": {
   "codemirror_mode": {
    "name": "ipython",
    "version": 3
   },
   "file_extension": ".py",
   "mimetype": "text/x-python",
   "name": "python",
   "nbconvert_exporter": "python",
   "pygments_lexer": "ipython3",
   "version": "3.7.10"
  },
  "papermill": {
   "default_parameters": {},
   "duration": 63.547761,
   "end_time": "2021-06-22T19:05:53.414616",
   "environment_variables": {},
   "exception": null,
   "input_path": "__notebook__.ipynb",
   "output_path": "__notebook__.ipynb",
   "parameters": {},
   "start_time": "2021-06-22T19:04:49.866855",
   "version": "2.3.3"
  }
 },
 "nbformat": 4,
 "nbformat_minor": 5
}
